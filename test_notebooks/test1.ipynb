{
 "cells": [
  {
   "cell_type": "code",
   "execution_count": 2,
   "metadata": {},
   "outputs": [],
   "source": [
    "from langchain.prompts import PromptTemplate\n",
    "#from langchain_google_vertexai import VertexAI\n",
    "from langchain.chains import LLMChain\n",
    "import pandas as pd"
   ]
  },
  {
   "cell_type": "code",
   "execution_count": 7,
   "metadata": {},
   "outputs": [
    {
     "ename": "FileNotFoundError",
     "evalue": "[Errno 2] No such file or directory: 'Jamaica_Mobile_KPI_ALL_202405016.xlsx'",
     "output_type": "error",
     "traceback": [
      "\u001b[1;31m---------------------------------------------------------------------------\u001b[0m",
      "\u001b[1;31mFileNotFoundError\u001b[0m                         Traceback (most recent call last)",
      "Cell \u001b[1;32mIn[7], line 1\u001b[0m\n\u001b[1;32m----> 1\u001b[0m df \u001b[38;5;241m=\u001b[39m \u001b[43mpd\u001b[49m\u001b[38;5;241;43m.\u001b[39;49m\u001b[43mread_excel\u001b[49m\u001b[43m(\u001b[49m\u001b[38;5;124;43m\"\u001b[39;49m\u001b[38;5;124;43mJamaica_Mobile_KPI_ALL_202405016.xlsx\u001b[39;49m\u001b[38;5;124;43m\"\u001b[39;49m\u001b[43m)\u001b[49m\n",
      "File \u001b[1;32mc:\\Users\\elamaran.k\\AppData\\Local\\Programs\\Python\\Python311\\Lib\\site-packages\\pandas\\util\\_decorators.py:211\u001b[0m, in \u001b[0;36mdeprecate_kwarg.<locals>._deprecate_kwarg.<locals>.wrapper\u001b[1;34m(*args, **kwargs)\u001b[0m\n\u001b[0;32m    209\u001b[0m     \u001b[38;5;28;01melse\u001b[39;00m:\n\u001b[0;32m    210\u001b[0m         kwargs[new_arg_name] \u001b[38;5;241m=\u001b[39m new_arg_value\n\u001b[1;32m--> 211\u001b[0m \u001b[38;5;28;01mreturn\u001b[39;00m \u001b[43mfunc\u001b[49m\u001b[43m(\u001b[49m\u001b[38;5;241;43m*\u001b[39;49m\u001b[43margs\u001b[49m\u001b[43m,\u001b[49m\u001b[43m \u001b[49m\u001b[38;5;241;43m*\u001b[39;49m\u001b[38;5;241;43m*\u001b[39;49m\u001b[43mkwargs\u001b[49m\u001b[43m)\u001b[49m\n",
      "File \u001b[1;32mc:\\Users\\elamaran.k\\AppData\\Local\\Programs\\Python\\Python311\\Lib\\site-packages\\pandas\\util\\_decorators.py:331\u001b[0m, in \u001b[0;36mdeprecate_nonkeyword_arguments.<locals>.decorate.<locals>.wrapper\u001b[1;34m(*args, **kwargs)\u001b[0m\n\u001b[0;32m    325\u001b[0m \u001b[38;5;28;01mif\u001b[39;00m \u001b[38;5;28mlen\u001b[39m(args) \u001b[38;5;241m>\u001b[39m num_allow_args:\n\u001b[0;32m    326\u001b[0m     warnings\u001b[38;5;241m.\u001b[39mwarn(\n\u001b[0;32m    327\u001b[0m         msg\u001b[38;5;241m.\u001b[39mformat(arguments\u001b[38;5;241m=\u001b[39m_format_argument_list(allow_args)),\n\u001b[0;32m    328\u001b[0m         \u001b[38;5;167;01mFutureWarning\u001b[39;00m,\n\u001b[0;32m    329\u001b[0m         stacklevel\u001b[38;5;241m=\u001b[39mfind_stack_level(),\n\u001b[0;32m    330\u001b[0m     )\n\u001b[1;32m--> 331\u001b[0m \u001b[38;5;28;01mreturn\u001b[39;00m \u001b[43mfunc\u001b[49m\u001b[43m(\u001b[49m\u001b[38;5;241;43m*\u001b[39;49m\u001b[43margs\u001b[49m\u001b[43m,\u001b[49m\u001b[43m \u001b[49m\u001b[38;5;241;43m*\u001b[39;49m\u001b[38;5;241;43m*\u001b[39;49m\u001b[43mkwargs\u001b[49m\u001b[43m)\u001b[49m\n",
      "File \u001b[1;32mc:\\Users\\elamaran.k\\AppData\\Local\\Programs\\Python\\Python311\\Lib\\site-packages\\pandas\\io\\excel\\_base.py:482\u001b[0m, in \u001b[0;36mread_excel\u001b[1;34m(io, sheet_name, header, names, index_col, usecols, squeeze, dtype, engine, converters, true_values, false_values, skiprows, nrows, na_values, keep_default_na, na_filter, verbose, parse_dates, date_parser, thousands, decimal, comment, skipfooter, convert_float, mangle_dupe_cols, storage_options)\u001b[0m\n\u001b[0;32m    480\u001b[0m \u001b[38;5;28;01mif\u001b[39;00m \u001b[38;5;129;01mnot\u001b[39;00m \u001b[38;5;28misinstance\u001b[39m(io, ExcelFile):\n\u001b[0;32m    481\u001b[0m     should_close \u001b[38;5;241m=\u001b[39m \u001b[38;5;28;01mTrue\u001b[39;00m\n\u001b[1;32m--> 482\u001b[0m     io \u001b[38;5;241m=\u001b[39m \u001b[43mExcelFile\u001b[49m\u001b[43m(\u001b[49m\u001b[43mio\u001b[49m\u001b[43m,\u001b[49m\u001b[43m \u001b[49m\u001b[43mstorage_options\u001b[49m\u001b[38;5;241;43m=\u001b[39;49m\u001b[43mstorage_options\u001b[49m\u001b[43m,\u001b[49m\u001b[43m \u001b[49m\u001b[43mengine\u001b[49m\u001b[38;5;241;43m=\u001b[39;49m\u001b[43mengine\u001b[49m\u001b[43m)\u001b[49m\n\u001b[0;32m    483\u001b[0m \u001b[38;5;28;01melif\u001b[39;00m engine \u001b[38;5;129;01mand\u001b[39;00m engine \u001b[38;5;241m!=\u001b[39m io\u001b[38;5;241m.\u001b[39mengine:\n\u001b[0;32m    484\u001b[0m     \u001b[38;5;28;01mraise\u001b[39;00m \u001b[38;5;167;01mValueError\u001b[39;00m(\n\u001b[0;32m    485\u001b[0m         \u001b[38;5;124m\"\u001b[39m\u001b[38;5;124mEngine should not be specified when passing \u001b[39m\u001b[38;5;124m\"\u001b[39m\n\u001b[0;32m    486\u001b[0m         \u001b[38;5;124m\"\u001b[39m\u001b[38;5;124man ExcelFile - ExcelFile already has the engine set\u001b[39m\u001b[38;5;124m\"\u001b[39m\n\u001b[0;32m    487\u001b[0m     )\n",
      "File \u001b[1;32mc:\\Users\\elamaran.k\\AppData\\Local\\Programs\\Python\\Python311\\Lib\\site-packages\\pandas\\io\\excel\\_base.py:1652\u001b[0m, in \u001b[0;36mExcelFile.__init__\u001b[1;34m(self, path_or_buffer, engine, storage_options)\u001b[0m\n\u001b[0;32m   1650\u001b[0m     ext \u001b[38;5;241m=\u001b[39m \u001b[38;5;124m\"\u001b[39m\u001b[38;5;124mxls\u001b[39m\u001b[38;5;124m\"\u001b[39m\n\u001b[0;32m   1651\u001b[0m \u001b[38;5;28;01melse\u001b[39;00m:\n\u001b[1;32m-> 1652\u001b[0m     ext \u001b[38;5;241m=\u001b[39m \u001b[43minspect_excel_format\u001b[49m\u001b[43m(\u001b[49m\n\u001b[0;32m   1653\u001b[0m \u001b[43m        \u001b[49m\u001b[43mcontent_or_path\u001b[49m\u001b[38;5;241;43m=\u001b[39;49m\u001b[43mpath_or_buffer\u001b[49m\u001b[43m,\u001b[49m\u001b[43m \u001b[49m\u001b[43mstorage_options\u001b[49m\u001b[38;5;241;43m=\u001b[39;49m\u001b[43mstorage_options\u001b[49m\n\u001b[0;32m   1654\u001b[0m \u001b[43m    \u001b[49m\u001b[43m)\u001b[49m\n\u001b[0;32m   1655\u001b[0m     \u001b[38;5;28;01mif\u001b[39;00m ext \u001b[38;5;129;01mis\u001b[39;00m \u001b[38;5;28;01mNone\u001b[39;00m:\n\u001b[0;32m   1656\u001b[0m         \u001b[38;5;28;01mraise\u001b[39;00m \u001b[38;5;167;01mValueError\u001b[39;00m(\n\u001b[0;32m   1657\u001b[0m             \u001b[38;5;124m\"\u001b[39m\u001b[38;5;124mExcel file format cannot be determined, you must specify \u001b[39m\u001b[38;5;124m\"\u001b[39m\n\u001b[0;32m   1658\u001b[0m             \u001b[38;5;124m\"\u001b[39m\u001b[38;5;124man engine manually.\u001b[39m\u001b[38;5;124m\"\u001b[39m\n\u001b[0;32m   1659\u001b[0m         )\n",
      "File \u001b[1;32mc:\\Users\\elamaran.k\\AppData\\Local\\Programs\\Python\\Python311\\Lib\\site-packages\\pandas\\io\\excel\\_base.py:1525\u001b[0m, in \u001b[0;36minspect_excel_format\u001b[1;34m(content_or_path, storage_options)\u001b[0m\n\u001b[0;32m   1522\u001b[0m \u001b[38;5;28;01mif\u001b[39;00m \u001b[38;5;28misinstance\u001b[39m(content_or_path, \u001b[38;5;28mbytes\u001b[39m):\n\u001b[0;32m   1523\u001b[0m     content_or_path \u001b[38;5;241m=\u001b[39m BytesIO(content_or_path)\n\u001b[1;32m-> 1525\u001b[0m \u001b[38;5;28;01mwith\u001b[39;00m \u001b[43mget_handle\u001b[49m\u001b[43m(\u001b[49m\n\u001b[0;32m   1526\u001b[0m \u001b[43m    \u001b[49m\u001b[43mcontent_or_path\u001b[49m\u001b[43m,\u001b[49m\u001b[43m \u001b[49m\u001b[38;5;124;43m\"\u001b[39;49m\u001b[38;5;124;43mrb\u001b[39;49m\u001b[38;5;124;43m\"\u001b[39;49m\u001b[43m,\u001b[49m\u001b[43m \u001b[49m\u001b[43mstorage_options\u001b[49m\u001b[38;5;241;43m=\u001b[39;49m\u001b[43mstorage_options\u001b[49m\u001b[43m,\u001b[49m\u001b[43m \u001b[49m\u001b[43mis_text\u001b[49m\u001b[38;5;241;43m=\u001b[39;49m\u001b[38;5;28;43;01mFalse\u001b[39;49;00m\n\u001b[0;32m   1527\u001b[0m \u001b[43m\u001b[49m\u001b[43m)\u001b[49m \u001b[38;5;28;01mas\u001b[39;00m handle:\n\u001b[0;32m   1528\u001b[0m     stream \u001b[38;5;241m=\u001b[39m handle\u001b[38;5;241m.\u001b[39mhandle\n\u001b[0;32m   1529\u001b[0m     stream\u001b[38;5;241m.\u001b[39mseek(\u001b[38;5;241m0\u001b[39m)\n",
      "File \u001b[1;32mc:\\Users\\elamaran.k\\AppData\\Local\\Programs\\Python\\Python311\\Lib\\site-packages\\pandas\\io\\common.py:865\u001b[0m, in \u001b[0;36mget_handle\u001b[1;34m(path_or_buf, mode, encoding, compression, memory_map, is_text, errors, storage_options)\u001b[0m\n\u001b[0;32m    856\u001b[0m         handle \u001b[38;5;241m=\u001b[39m \u001b[38;5;28mopen\u001b[39m(\n\u001b[0;32m    857\u001b[0m             handle,\n\u001b[0;32m    858\u001b[0m             ioargs\u001b[38;5;241m.\u001b[39mmode,\n\u001b[1;32m   (...)\u001b[0m\n\u001b[0;32m    861\u001b[0m             newline\u001b[38;5;241m=\u001b[39m\u001b[38;5;124m\"\u001b[39m\u001b[38;5;124m\"\u001b[39m,\n\u001b[0;32m    862\u001b[0m         )\n\u001b[0;32m    863\u001b[0m     \u001b[38;5;28;01melse\u001b[39;00m:\n\u001b[0;32m    864\u001b[0m         \u001b[38;5;66;03m# Binary mode\u001b[39;00m\n\u001b[1;32m--> 865\u001b[0m         handle \u001b[38;5;241m=\u001b[39m \u001b[38;5;28;43mopen\u001b[39;49m\u001b[43m(\u001b[49m\u001b[43mhandle\u001b[49m\u001b[43m,\u001b[49m\u001b[43m \u001b[49m\u001b[43mioargs\u001b[49m\u001b[38;5;241;43m.\u001b[39;49m\u001b[43mmode\u001b[49m\u001b[43m)\u001b[49m\n\u001b[0;32m    866\u001b[0m     handles\u001b[38;5;241m.\u001b[39mappend(handle)\n\u001b[0;32m    868\u001b[0m \u001b[38;5;66;03m# Convert BytesIO or file objects passed with an encoding\u001b[39;00m\n",
      "\u001b[1;31mFileNotFoundError\u001b[0m: [Errno 2] No such file or directory: 'Jamaica_Mobile_KPI_ALL_202405016.xlsx'"
     ]
    }
   ],
   "source": [
    "df = pd.read_excel(\"Jamaica_Mobile_KPI_ALL_202405016.xlsx\")"
   ]
  },
  {
   "cell_type": "code",
   "execution_count": 32,
   "metadata": {},
   "outputs": [],
   "source": [
    "df = df.T"
   ]
  },
  {
   "cell_type": "code",
   "execution_count": 33,
   "metadata": {},
   "outputs": [],
   "source": [
    "first_row_values = df.iloc[0]"
   ]
  },
  {
   "cell_type": "code",
   "execution_count": 34,
   "metadata": {},
   "outputs": [],
   "source": [
    "df = df.rename(columns=first_row_values)"
   ]
  },
  {
   "cell_type": "code",
   "execution_count": 35,
   "metadata": {},
   "outputs": [],
   "source": [
    "df = df[1:]"
   ]
  },
  {
   "cell_type": "code",
   "execution_count": 37,
   "metadata": {},
   "outputs": [],
   "source": [
    "df = df.drop(df.columns[0], axis=1)"
   ]
  },
  {
   "cell_type": "code",
   "execution_count": 43,
   "metadata": {},
   "outputs": [
    {
     "data": {
      "text/plain": [
       "(92, 330)"
      ]
     },
     "execution_count": 43,
     "metadata": {},
     "output_type": "execute_result"
    }
   ],
   "source": [
    "df.shape"
   ]
  },
  {
   "cell_type": "code",
   "execution_count": 44,
   "metadata": {},
   "outputs": [
    {
     "data": {
      "text/html": [
       "<div>\n",
       "<style scoped>\n",
       "    .dataframe tbody tr th:only-of-type {\n",
       "        vertical-align: middle;\n",
       "    }\n",
       "\n",
       "    .dataframe tbody tr th {\n",
       "        vertical-align: top;\n",
       "    }\n",
       "\n",
       "    .dataframe thead th {\n",
       "        text-align: right;\n",
       "    }\n",
       "</style>\n",
       "<table border=\"1\" class=\"dataframe\">\n",
       "  <thead>\n",
       "    <tr style=\"text-align: right;\">\n",
       "      <th></th>\n",
       "      <th>May 2024</th>\n",
       "      <th>Customer KPI's</th>\n",
       "      <th>Activations</th>\n",
       "      <th>Prepaid</th>\n",
       "      <th>Postpaid</th>\n",
       "      <th>Gross Adds</th>\n",
       "      <th>Prepaid Churn</th>\n",
       "      <th>Postpaid Churn</th>\n",
       "      <th>Less Prepaid Rejoiners</th>\n",
       "      <th>Postpaid Rejoiners</th>\n",
       "      <th>...</th>\n",
       "      <th>Cumulative Unique Subs using LTE data</th>\n",
       "      <th>Unique Subs using LTE data in past 30 days</th>\n",
       "      <th>Unique Subs using LTE data per day</th>\n",
       "      <th>Mobile Loan KPI's</th>\n",
       "      <th>Mobile Loans</th>\n",
       "      <th>Loan Issue Value  (USD)</th>\n",
       "      <th>Loan Admin Fee (USD)</th>\n",
       "      <th>Repaid Loan Value  (USD)</th>\n",
       "      <th>Loan Value Outstanding  (USD)</th>\n",
       "      <th>No of Loans Outstanding</th>\n",
       "    </tr>\n",
       "  </thead>\n",
       "  <tbody>\n",
       "    <tr>\n",
       "      <th>Unnamed: 1</th>\n",
       "      <td>2024-03-01 00:00:00</td>\n",
       "      <td>NaN</td>\n",
       "      <td>NaN</td>\n",
       "      <td>2511</td>\n",
       "      <td>211</td>\n",
       "      <td>2722</td>\n",
       "      <td>-2996</td>\n",
       "      <td>-478</td>\n",
       "      <td>1837</td>\n",
       "      <td>35</td>\n",
       "      <td>...</td>\n",
       "      <td>145578</td>\n",
       "      <td>600693</td>\n",
       "      <td>145579</td>\n",
       "      <td>2024-03-01 00:00:00</td>\n",
       "      <td>NaN</td>\n",
       "      <td>118495.23</td>\n",
       "      <td>11849.51</td>\n",
       "      <td>131852.11</td>\n",
       "      <td>1459136.05</td>\n",
       "      <td>219675</td>\n",
       "    </tr>\n",
       "    <tr>\n",
       "      <th>-38964.79</th>\n",
       "      <td>2024-03-02 00:00:00</td>\n",
       "      <td>NaN</td>\n",
       "      <td>NaN</td>\n",
       "      <td>2640</td>\n",
       "      <td>119</td>\n",
       "      <td>2759</td>\n",
       "      <td>-2854</td>\n",
       "      <td>-35</td>\n",
       "      <td>2586</td>\n",
       "      <td>13</td>\n",
       "      <td>...</td>\n",
       "      <td>206745</td>\n",
       "      <td>602995</td>\n",
       "      <td>139648</td>\n",
       "      <td>2024-03-02 00:00:00</td>\n",
       "      <td>NaN</td>\n",
       "      <td>118199</td>\n",
       "      <td>11819.88</td>\n",
       "      <td>127822.18</td>\n",
       "      <td>2812222.62</td>\n",
       "      <td>427485</td>\n",
       "    </tr>\n",
       "    <tr>\n",
       "      <th>Unnamed: 3</th>\n",
       "      <td>2024-03-03 00:00:00</td>\n",
       "      <td>NaN</td>\n",
       "      <td>NaN</td>\n",
       "      <td>565</td>\n",
       "      <td>2</td>\n",
       "      <td>567</td>\n",
       "      <td>-3142</td>\n",
       "      <td>-9</td>\n",
       "      <td>1828</td>\n",
       "      <td>6</td>\n",
       "      <td>...</td>\n",
       "      <td>252554</td>\n",
       "      <td>604344</td>\n",
       "      <td>135468</td>\n",
       "      <td>2024-03-03 00:00:00</td>\n",
       "      <td>NaN</td>\n",
       "      <td>86039.69</td>\n",
       "      <td>8603.96</td>\n",
       "      <td>81918.89</td>\n",
       "      <td>2822610.91</td>\n",
       "      <td>428838</td>\n",
       "    </tr>\n",
       "    <tr>\n",
       "      <th>Unnamed: 4</th>\n",
       "      <td>2024-03-04 00:00:00</td>\n",
       "      <td>NaN</td>\n",
       "      <td>NaN</td>\n",
       "      <td>2242</td>\n",
       "      <td>28</td>\n",
       "      <td>2270</td>\n",
       "      <td>-3467</td>\n",
       "      <td>-32</td>\n",
       "      <td>1444</td>\n",
       "      <td>0</td>\n",
       "      <td>...</td>\n",
       "      <td>295415</td>\n",
       "      <td>606512</td>\n",
       "      <td>149307</td>\n",
       "      <td>2024-03-04 00:00:00</td>\n",
       "      <td>NaN</td>\n",
       "      <td>121158.77</td>\n",
       "      <td>12115.86</td>\n",
       "      <td>124507.56</td>\n",
       "      <td>2828237.19</td>\n",
       "      <td>429000</td>\n",
       "    </tr>\n",
       "    <tr>\n",
       "      <th>Unnamed: 5</th>\n",
       "      <td>2024-03-05 00:00:00</td>\n",
       "      <td>NaN</td>\n",
       "      <td>NaN</td>\n",
       "      <td>2099</td>\n",
       "      <td>784</td>\n",
       "      <td>2883</td>\n",
       "      <td>-3752</td>\n",
       "      <td>-132</td>\n",
       "      <td>1587</td>\n",
       "      <td>16</td>\n",
       "      <td>...</td>\n",
       "      <td>328791</td>\n",
       "      <td>608838</td>\n",
       "      <td>146427</td>\n",
       "      <td>2024-03-05 00:00:00</td>\n",
       "      <td>NaN</td>\n",
       "      <td>108519.94</td>\n",
       "      <td>10851.98</td>\n",
       "      <td>107569.34</td>\n",
       "      <td>2837046.04</td>\n",
       "      <td>430096</td>\n",
       "    </tr>\n",
       "    <tr>\n",
       "      <th>...</th>\n",
       "      <td>...</td>\n",
       "      <td>...</td>\n",
       "      <td>...</td>\n",
       "      <td>...</td>\n",
       "      <td>...</td>\n",
       "      <td>...</td>\n",
       "      <td>...</td>\n",
       "      <td>...</td>\n",
       "      <td>...</td>\n",
       "      <td>...</td>\n",
       "      <td>...</td>\n",
       "      <td>...</td>\n",
       "      <td>...</td>\n",
       "      <td>...</td>\n",
       "      <td>...</td>\n",
       "      <td>...</td>\n",
       "      <td>...</td>\n",
       "      <td>...</td>\n",
       "      <td>...</td>\n",
       "      <td>...</td>\n",
       "      <td>...</td>\n",
       "    </tr>\n",
       "    <tr>\n",
       "      <th>Unnamed: 88</th>\n",
       "      <td>2024-05-27 00:00:00</td>\n",
       "      <td>NaN</td>\n",
       "      <td>NaN</td>\n",
       "      <td>NaN</td>\n",
       "      <td>NaN</td>\n",
       "      <td>NaN</td>\n",
       "      <td>NaN</td>\n",
       "      <td>NaN</td>\n",
       "      <td>NaN</td>\n",
       "      <td>NaN</td>\n",
       "      <td>...</td>\n",
       "      <td>NaN</td>\n",
       "      <td>NaN</td>\n",
       "      <td>NaN</td>\n",
       "      <td>2024-05-27 00:00:00</td>\n",
       "      <td>NaN</td>\n",
       "      <td>NaN</td>\n",
       "      <td>NaN</td>\n",
       "      <td>NaN</td>\n",
       "      <td>NaN</td>\n",
       "      <td>NaN</td>\n",
       "    </tr>\n",
       "    <tr>\n",
       "      <th>Unnamed: 89</th>\n",
       "      <td>2024-05-28 00:00:00</td>\n",
       "      <td>NaN</td>\n",
       "      <td>NaN</td>\n",
       "      <td>NaN</td>\n",
       "      <td>NaN</td>\n",
       "      <td>NaN</td>\n",
       "      <td>NaN</td>\n",
       "      <td>NaN</td>\n",
       "      <td>NaN</td>\n",
       "      <td>NaN</td>\n",
       "      <td>...</td>\n",
       "      <td>NaN</td>\n",
       "      <td>NaN</td>\n",
       "      <td>NaN</td>\n",
       "      <td>2024-05-28 00:00:00</td>\n",
       "      <td>NaN</td>\n",
       "      <td>NaN</td>\n",
       "      <td>NaN</td>\n",
       "      <td>NaN</td>\n",
       "      <td>NaN</td>\n",
       "      <td>NaN</td>\n",
       "    </tr>\n",
       "    <tr>\n",
       "      <th>Unnamed: 90</th>\n",
       "      <td>2024-05-29 00:00:00</td>\n",
       "      <td>NaN</td>\n",
       "      <td>NaN</td>\n",
       "      <td>NaN</td>\n",
       "      <td>NaN</td>\n",
       "      <td>NaN</td>\n",
       "      <td>NaN</td>\n",
       "      <td>NaN</td>\n",
       "      <td>NaN</td>\n",
       "      <td>NaN</td>\n",
       "      <td>...</td>\n",
       "      <td>NaN</td>\n",
       "      <td>NaN</td>\n",
       "      <td>NaN</td>\n",
       "      <td>2024-05-29 00:00:00</td>\n",
       "      <td>NaN</td>\n",
       "      <td>NaN</td>\n",
       "      <td>NaN</td>\n",
       "      <td>NaN</td>\n",
       "      <td>NaN</td>\n",
       "      <td>NaN</td>\n",
       "    </tr>\n",
       "    <tr>\n",
       "      <th>Unnamed: 91</th>\n",
       "      <td>2024-05-30 00:00:00</td>\n",
       "      <td>NaN</td>\n",
       "      <td>NaN</td>\n",
       "      <td>NaN</td>\n",
       "      <td>NaN</td>\n",
       "      <td>NaN</td>\n",
       "      <td>NaN</td>\n",
       "      <td>NaN</td>\n",
       "      <td>NaN</td>\n",
       "      <td>NaN</td>\n",
       "      <td>...</td>\n",
       "      <td>NaN</td>\n",
       "      <td>NaN</td>\n",
       "      <td>NaN</td>\n",
       "      <td>2024-05-30 00:00:00</td>\n",
       "      <td>NaN</td>\n",
       "      <td>NaN</td>\n",
       "      <td>NaN</td>\n",
       "      <td>NaN</td>\n",
       "      <td>NaN</td>\n",
       "      <td>NaN</td>\n",
       "    </tr>\n",
       "    <tr>\n",
       "      <th>Unnamed: 92</th>\n",
       "      <td>2024-05-31 00:00:00</td>\n",
       "      <td>NaN</td>\n",
       "      <td>NaN</td>\n",
       "      <td>NaN</td>\n",
       "      <td>NaN</td>\n",
       "      <td>NaN</td>\n",
       "      <td>NaN</td>\n",
       "      <td>NaN</td>\n",
       "      <td>NaN</td>\n",
       "      <td>NaN</td>\n",
       "      <td>...</td>\n",
       "      <td>NaN</td>\n",
       "      <td>NaN</td>\n",
       "      <td>NaN</td>\n",
       "      <td>2024-05-31 00:00:00</td>\n",
       "      <td>NaN</td>\n",
       "      <td>NaN</td>\n",
       "      <td>NaN</td>\n",
       "      <td>NaN</td>\n",
       "      <td>NaN</td>\n",
       "      <td>NaN</td>\n",
       "    </tr>\n",
       "  </tbody>\n",
       "</table>\n",
       "<p>92 rows × 330 columns</p>\n",
       "</div>"
      ],
      "text/plain": [
       "                         May 2024 Customer KPI's Activations Prepaid Postpaid  \\\n",
       " Unnamed: 1   2024-03-01 00:00:00            NaN         NaN    2511      211   \n",
       "-38964.79     2024-03-02 00:00:00            NaN         NaN    2640      119   \n",
       " Unnamed: 3   2024-03-03 00:00:00            NaN         NaN     565        2   \n",
       " Unnamed: 4   2024-03-04 00:00:00            NaN         NaN    2242       28   \n",
       " Unnamed: 5   2024-03-05 00:00:00            NaN         NaN    2099      784   \n",
       "...                           ...            ...         ...     ...      ...   \n",
       " Unnamed: 88  2024-05-27 00:00:00            NaN         NaN     NaN      NaN   \n",
       " Unnamed: 89  2024-05-28 00:00:00            NaN         NaN     NaN      NaN   \n",
       " Unnamed: 90  2024-05-29 00:00:00            NaN         NaN     NaN      NaN   \n",
       " Unnamed: 91  2024-05-30 00:00:00            NaN         NaN     NaN      NaN   \n",
       " Unnamed: 92  2024-05-31 00:00:00            NaN         NaN     NaN      NaN   \n",
       "\n",
       "             Gross Adds Prepaid Churn Postpaid Churn Less Prepaid Rejoiners  \\\n",
       " Unnamed: 1        2722         -2996           -478                   1837   \n",
       "-38964.79          2759         -2854            -35                   2586   \n",
       " Unnamed: 3         567         -3142             -9                   1828   \n",
       " Unnamed: 4        2270         -3467            -32                   1444   \n",
       " Unnamed: 5        2883         -3752           -132                   1587   \n",
       "...                 ...           ...            ...                    ...   \n",
       " Unnamed: 88        NaN           NaN            NaN                    NaN   \n",
       " Unnamed: 89        NaN           NaN            NaN                    NaN   \n",
       " Unnamed: 90        NaN           NaN            NaN                    NaN   \n",
       " Unnamed: 91        NaN           NaN            NaN                    NaN   \n",
       " Unnamed: 92        NaN           NaN            NaN                    NaN   \n",
       "\n",
       "             Postpaid Rejoiners  ... Cumulative Unique Subs using LTE data  \\\n",
       " Unnamed: 1                  35  ...                                145578   \n",
       "-38964.79                    13  ...                                206745   \n",
       " Unnamed: 3                   6  ...                                252554   \n",
       " Unnamed: 4                   0  ...                                295415   \n",
       " Unnamed: 5                  16  ...                                328791   \n",
       "...                         ...  ...                                   ...   \n",
       " Unnamed: 88                NaN  ...                                   NaN   \n",
       " Unnamed: 89                NaN  ...                                   NaN   \n",
       " Unnamed: 90                NaN  ...                                   NaN   \n",
       " Unnamed: 91                NaN  ...                                   NaN   \n",
       " Unnamed: 92                NaN  ...                                   NaN   \n",
       "\n",
       "             Unique Subs using LTE data in past 30 days  \\\n",
       " Unnamed: 1                                      600693   \n",
       "-38964.79                                        602995   \n",
       " Unnamed: 3                                      604344   \n",
       " Unnamed: 4                                      606512   \n",
       " Unnamed: 5                                      608838   \n",
       "...                                                 ...   \n",
       " Unnamed: 88                                        NaN   \n",
       " Unnamed: 89                                        NaN   \n",
       " Unnamed: 90                                        NaN   \n",
       " Unnamed: 91                                        NaN   \n",
       " Unnamed: 92                                        NaN   \n",
       "\n",
       "             Unique Subs using LTE data per day    Mobile Loan KPI's  \\\n",
       " Unnamed: 1                              145579  2024-03-01 00:00:00   \n",
       "-38964.79                                139648  2024-03-02 00:00:00   \n",
       " Unnamed: 3                              135468  2024-03-03 00:00:00   \n",
       " Unnamed: 4                              149307  2024-03-04 00:00:00   \n",
       " Unnamed: 5                              146427  2024-03-05 00:00:00   \n",
       "...                                         ...                  ...   \n",
       " Unnamed: 88                                NaN  2024-05-27 00:00:00   \n",
       " Unnamed: 89                                NaN  2024-05-28 00:00:00   \n",
       " Unnamed: 90                                NaN  2024-05-29 00:00:00   \n",
       " Unnamed: 91                                NaN  2024-05-30 00:00:00   \n",
       " Unnamed: 92                                NaN  2024-05-31 00:00:00   \n",
       "\n",
       "             Mobile Loans Loan Issue Value  (USD) Loan Admin Fee (USD)  \\\n",
       " Unnamed: 1           NaN               118495.23             11849.51   \n",
       "-38964.79             NaN                  118199             11819.88   \n",
       " Unnamed: 3           NaN                86039.69              8603.96   \n",
       " Unnamed: 4           NaN               121158.77             12115.86   \n",
       " Unnamed: 5           NaN               108519.94             10851.98   \n",
       "...                   ...                     ...                  ...   \n",
       " Unnamed: 88          NaN                     NaN                  NaN   \n",
       " Unnamed: 89          NaN                     NaN                  NaN   \n",
       " Unnamed: 90          NaN                     NaN                  NaN   \n",
       " Unnamed: 91          NaN                     NaN                  NaN   \n",
       " Unnamed: 92          NaN                     NaN                  NaN   \n",
       "\n",
       "             Repaid Loan Value  (USD) Loan Value Outstanding  (USD)  \\\n",
       " Unnamed: 1                 131852.11                    1459136.05   \n",
       "-38964.79                   127822.18                    2812222.62   \n",
       " Unnamed: 3                  81918.89                    2822610.91   \n",
       " Unnamed: 4                 124507.56                    2828237.19   \n",
       " Unnamed: 5                 107569.34                    2837046.04   \n",
       "...                               ...                           ...   \n",
       " Unnamed: 88                      NaN                           NaN   \n",
       " Unnamed: 89                      NaN                           NaN   \n",
       " Unnamed: 90                      NaN                           NaN   \n",
       " Unnamed: 91                      NaN                           NaN   \n",
       " Unnamed: 92                      NaN                           NaN   \n",
       "\n",
       "             No of Loans Outstanding  \n",
       " Unnamed: 1                   219675  \n",
       "-38964.79                     427485  \n",
       " Unnamed: 3                   428838  \n",
       " Unnamed: 4                   429000  \n",
       " Unnamed: 5                   430096  \n",
       "...                              ...  \n",
       " Unnamed: 88                     NaN  \n",
       " Unnamed: 89                     NaN  \n",
       " Unnamed: 90                     NaN  \n",
       " Unnamed: 91                     NaN  \n",
       " Unnamed: 92                     NaN  \n",
       "\n",
       "[92 rows x 330 columns]"
      ]
     },
     "execution_count": 44,
     "metadata": {},
     "output_type": "execute_result"
    }
   ],
   "source": [
    "df"
   ]
  },
  {
   "cell_type": "code",
   "execution_count": 46,
   "metadata": {},
   "outputs": [],
   "source": [
    "df.dropna(axis=1, how='all', inplace=True)"
   ]
  },
  {
   "cell_type": "code",
   "execution_count": 52,
   "metadata": {},
   "outputs": [],
   "source": [
    "df.rename(columns={'Postpaid': 'Postpaid Activation'}, inplace=True)"
   ]
  },
  {
   "cell_type": "code",
   "execution_count": 53,
   "metadata": {},
   "outputs": [],
   "source": [
    "df.rename(columns={'Prepaid': 'Prepaid Activation'}, inplace=True)"
   ]
  },
  {
   "cell_type": "code",
   "execution_count": 54,
   "metadata": {},
   "outputs": [
    {
     "data": {
      "text/plain": [
       "May 2024                          0\n",
       "Prepaid Activation               23\n",
       "Postpaid Activation              23\n",
       "Gross Adds                       23\n",
       "Prepaid Churn                    23\n",
       "                                 ..\n",
       "Loan Issue Value  (USD)          23\n",
       "Loan Admin Fee (USD)             23\n",
       "Repaid Loan Value  (USD)         23\n",
       "Loan Value Outstanding  (USD)    23\n",
       "No of Loans Outstanding          23\n",
       "Length: 305, dtype: int64"
      ]
     },
     "execution_count": 54,
     "metadata": {},
     "output_type": "execute_result"
    }
   ],
   "source": [
    "df.isna().sum()"
   ]
  },
  {
   "cell_type": "code",
   "execution_count": 56,
   "metadata": {},
   "outputs": [],
   "source": [
    "df.to_csv('Jamaica_partial_cleaned.csv', index= False)"
   ]
  },
  {
   "cell_type": "code",
   "execution_count": null,
   "metadata": {},
   "outputs": [],
   "source": []
  },
  {
   "cell_type": "code",
   "execution_count": 58,
   "metadata": {},
   "outputs": [],
   "source": [
    "df1 = pd.read_csv(\"Jamaica_partial_cleaned.csv\")"
   ]
  },
  {
   "cell_type": "code",
   "execution_count": 2,
   "metadata": {},
   "outputs": [],
   "source": [
    "def matplotlib_response(query):\n",
    "    \n",
    "    prompt_text = \"\"\"\n",
    "    \"Column name\": \"Vehicle Number\", \"Example Value\": \"HR66C5043\", \"Column name\": \"Date\", \"Example Value\": \"2024-01-10\", \"Column name\": \"Distance (Km)\", \"Example Value\": \"521.13\", \"Column name\": \"Fuel Consumed (L)\", \"Example Value\": \"25.0\", \"Column name\": \"Fuel Efficiency (Kmpl)\", \"Example Value\": \"9.0\", \"Column name\": \"Idling Time\", \"Example Value\": \"0 days 01:38:49\", \"Column name\": \"No of Refuels\", \"Example Value\": \"3\", \"Column name\": \"Volume of Refuels\", \"Example Value\": \"123.0\", \"Column name\": \"No of Pilferage\", \"Example Value\": \"1\", \"Column name\": \"Volume of Pilferage\", \"Example Value\": \"43.0\", \"Column name\": \"Engine On Hours\", \"Example Value\": \"0 days 14:51:52\", \"Column name\": \"Total Running Time (hrs)\", \"Example Value\": \"0 days 13:13:03\", \"Column name\": \"Idling Time Percentage\", \"Example Value\": \"12.460332471681063\", \"Column name\": \"Pilferage Rate\", \"Example Value\": \"43.0\", \"Column name\": \"Average_Speed(Kmph)\", \"Example Value\": \"39.42727444675619\"\n",
    "    'dtype_mapping = 'Vehicle Number': 'string', 'Date': 'datetime64', 'Distance (Km)': 'float64', 'Fuel Consumed (L)': 'float64', 'Fuel Efficiency (Kmpl)': 'float64', 'Idling Time': 'timedelta64', 'No of Refuels': 'int64', 'Volume of Refuels': 'float64', 'No of Pilferage': 'int64', 'Volume of Pilferage': 'float64', 'Engine On Hours': 'timedelta64', 'Total Running Time (hrs)': 'timedelta64', 'Idling Time Percentage': 'float64', 'Pilferage Rate': 'float64', 'Average_Speed(Kmph)': 'float64'\n",
    "    Considering the df and the Pseudo code that is provided to you, write an efficient & executable python code leveraging matplotlib. Be mindlful of the **column names** while using df\n",
    "    \n",
    "    - Follow the data types mapping strictly. Very crucial!\n",
    "    - Do not preprocess df. Do not handle missing values and duplicates. Follow this strictly.\n",
    "    - Try to express everything in a single plot. Give proper labels for understanding.\n",
    "    \n",
    "    Pseudocode: {input}\n",
    "    Agent: \n",
    "    \"\"\"\n",
    "    prompt = PromptTemplate.from_template(prompt_text)\n",
    "    model = VertexAI(model='claude-3-opus@20240229', max_output_tokens=2048)\n",
    "    chain = LLMChain(llm=model, prompt=prompt)\n",
    "\n",
    "    response = chain.run(input = query)\n",
    "    return response"
   ]
  },
  {
   "cell_type": "code",
   "execution_count": 5,
   "metadata": {},
   "outputs": [],
   "source": [
    "import json\n",
    "e = \"error\""
   ]
  },
  {
   "cell_type": "code",
   "execution_count": 21,
   "metadata": {},
   "outputs": [],
   "source": [
    "result = {\"image\": None, \"description\": f\"Error generating response from the model - {e}\", \"table\": None}"
   ]
  },
  {
   "cell_type": "code",
   "execution_count": 23,
   "metadata": {},
   "outputs": [
    {
     "data": {
      "text/plain": [
       "'\"{\\\\\"image\\\\\": null, \\\\\"description\\\\\": \\\\\"Error generating response from the model - error\\\\\", \\\\\"table\\\\\": null}\"'"
      ]
     },
     "execution_count": 23,
     "metadata": {},
     "output_type": "execute_result"
    }
   ],
   "source": [
    "json.dumps(result)"
   ]
  },
  {
   "cell_type": "code",
   "execution_count": 24,
   "metadata": {},
   "outputs": [
    {
     "data": {
      "text/plain": [
       "{'image': None,\n",
       " 'description': 'Error generating response from the model - error',\n",
       " 'table': None}"
      ]
     },
     "execution_count": 24,
     "metadata": {},
     "output_type": "execute_result"
    }
   ],
   "source": [
    "json.loads(result)"
   ]
  },
  {
   "cell_type": "code",
   "execution_count": 10,
   "metadata": {},
   "outputs": [
    {
     "name": "stdout",
     "output_type": "stream",
     "text": [
      "{\"image\": null, \"description\": \"Error generating response from the model - error\", \"table\": null}\n"
     ]
    }
   ],
   "source": [
    "import json\n",
    "\n",
    "e = \"error\"\n",
    "\n",
    "# Use string formatting to embed the variable\n",
    "data = {\n",
    "    \"image\": None,\n",
    "    \"description\": \"Error generating response from the model - {}\".format(e),\n",
    "    \"table\": None\n",
    "}\n",
    "\n",
    "# Convert the dictionary to a JSON string\n",
    "json_string = json.dumps(data)\n",
    "\n",
    "# Print the JSON string\n",
    "print(json_string)\n"
   ]
  },
  {
   "cell_type": "code",
   "execution_count": 1,
   "metadata": {},
   "outputs": [],
   "source": [
    "a = \"ball\"\n",
    "b = a.startswith(\"b\")"
   ]
  },
  {
   "cell_type": "code",
   "execution_count": 2,
   "metadata": {},
   "outputs": [
    {
     "data": {
      "text/plain": [
       "True"
      ]
     },
     "execution_count": 2,
     "metadata": {},
     "output_type": "execute_result"
    }
   ],
   "source": [
    "b"
   ]
  }
 ],
 "metadata": {
  "kernelspec": {
   "display_name": "Python 3",
   "language": "python",
   "name": "python3"
  },
  "language_info": {
   "codemirror_mode": {
    "name": "ipython",
    "version": 3
   },
   "file_extension": ".py",
   "mimetype": "text/x-python",
   "name": "python",
   "nbconvert_exporter": "python",
   "pygments_lexer": "ipython3",
   "version": "3.11.9"
  }
 },
 "nbformat": 4,
 "nbformat_minor": 2
}
