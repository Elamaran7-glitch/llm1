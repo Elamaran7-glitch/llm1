{
 "cells": [
  {
   "cell_type": "code",
   "execution_count": 1,
   "metadata": {},
   "outputs": [
    {
     "ename": "ModuleNotFoundError",
     "evalue": "No module named 'langchain_google_vertexai'",
     "output_type": "error",
     "traceback": [
      "\u001b[1;31m---------------------------------------------------------------------------\u001b[0m",
      "\u001b[1;31mModuleNotFoundError\u001b[0m                       Traceback (most recent call last)",
      "Cell \u001b[1;32mIn[1], line 4\u001b[0m\n\u001b[0;32m      2\u001b[0m \u001b[38;5;28;01mimport\u001b[39;00m \u001b[38;5;21;01mpandas\u001b[39;00m \u001b[38;5;28;01mas\u001b[39;00m \u001b[38;5;21;01mpd\u001b[39;00m\n\u001b[0;32m      3\u001b[0m \u001b[38;5;28;01mfrom\u001b[39;00m \u001b[38;5;21;01mpandasai\u001b[39;00m \u001b[38;5;28;01mimport\u001b[39;00m SmartDataframe\n\u001b[1;32m----> 4\u001b[0m \u001b[38;5;28;01mfrom\u001b[39;00m \u001b[38;5;21;01mlangchain_google_vertexai\u001b[39;00m \u001b[38;5;28;01mimport\u001b[39;00m VertexAI\n\u001b[0;32m      5\u001b[0m \u001b[38;5;28;01mfrom\u001b[39;00m \u001b[38;5;21;01mpandasai\u001b[39;00m \u001b[38;5;28;01mimport\u001b[39;00m Agent\n",
      "\u001b[1;31mModuleNotFoundError\u001b[0m: No module named 'langchain_google_vertexai'"
     ]
    }
   ],
   "source": [
    "import os\n",
    "import pandas as pd\n",
    "from pandasai import SmartDataframe\n",
    "from langchain_google_vertexai import VertexAI\n",
    "from pandasai import Agent"
   ]
  },
  {
   "cell_type": "code",
   "execution_count": 3,
   "metadata": {},
   "outputs": [],
   "source": [
    "df = pd.read_csv('C:\\\\Users\\\\gopesh.r\\\\Downloads\\\\LLA-J\\\\Jamaica_partial_cleaned.csv')"
   ]
  },
  {
   "cell_type": "code",
   "execution_count": 4,
   "metadata": {},
   "outputs": [],
   "source": [
    "os.environ['GOOGLE_APPLICATION_CREDENTIALS'] = \"C:\\\\Users\\\\gopesh.r\\\\Downloads\\\\LLA-J\\\\lumen-b-ctl-047-e2aeb24b0ea0.json\"\n",
    "llm = VertexAI(model_name='gemini-1.5-pro-preview-0409', temperature=0.5, max_output_tokens=8192)"
   ]
  },
  {
   "cell_type": "code",
   "execution_count": 6,
   "metadata": {},
   "outputs": [],
   "source": [
    "agent = Agent([df], memory_size=0, description=\"You are a data analysis agent. Your main goal is to help non-technical users to analyze data.\", config={\"llm\": llm, \"enable_cache\": False})"
   ]
  },
  {
   "cell_type": "code",
   "execution_count": 13,
   "metadata": {},
   "outputs": [
    {
     "name": "stderr",
     "output_type": "stream",
     "text": [
      "<string>:4: SettingWithCopyWarning: \n",
      "A value is trying to be set on a copy of a slice from a DataFrame.\n",
      "Try using .loc[row_indexer,col_indexer] = value instead\n",
      "\n",
      "See the caveats in the documentation: https://pandas.pydata.org/pandas-docs/stable/user_guide/indexing.html#returning-a-view-versus-a-copy\n"
     ]
    },
    {
     "name": "stdout",
     "output_type": "stream",
     "text": [
      "31\n"
     ]
    },
    {
     "name": "stderr",
     "output_type": "stream",
     "text": [
      "<string>:4: SettingWithCopyWarning: \n",
      "A value is trying to be set on a copy of a slice from a DataFrame.\n",
      "Try using .loc[row_indexer,col_indexer] = value instead\n",
      "\n",
      "See the caveats in the documentation: https://pandas.pydata.org/pandas-docs/stable/user_guide/indexing.html#returning-a-view-versus-a-copy\n"
     ]
    }
   ],
   "source": [
    "query = \"when in march most postpaid churn happen?\"\n",
    "# Chat with the agent\n",
    "response = agent.chat(query)\n",
    "print(response)"
   ]
  },
  {
   "cell_type": "code",
   "execution_count": 11,
   "metadata": {},
   "outputs": [
    {
     "data": {
      "text/plain": [
       "31"
      ]
     },
     "execution_count": 11,
     "metadata": {},
     "output_type": "execute_result"
    }
   ],
   "source": [
    "response"
   ]
  },
  {
   "cell_type": "code",
   "execution_count": 20,
   "metadata": {},
   "outputs": [
    {
     "data": {
      "text/plain": [
       "'The churn rate in March fluctuated between -0.39% and -0.23%, meaning that the percentage of prepaid customers who stopped using the service varied between these two extremes throughout the month.'"
      ]
     },
     "execution_count": 20,
     "metadata": {},
     "output_type": "execute_result"
    }
   ],
   "source": [
    "agent.chat(\"when u say the churn rate in march fluctuated between -7.84 and -1.08, what do you actually mean. explain\")"
   ]
  },
  {
   "cell_type": "code",
   "execution_count": 12,
   "metadata": {},
   "outputs": [
    {
     "name": "stdout",
     "output_type": "stream",
     "text": [
      "df = dfs[0]\n",
      "df['Datetime'] = pd.to_datetime(df['Datetime'])\n",
      "march_df = df[df['Datetime'].dt.month == 3]\n",
      "march_df['Day'] = march_df['Datetime'].dt.day\n",
      "churn_by_day = march_df.groupby('Day')['Postpaid Churn'].sum()\n",
      "max_churn_day = churn_by_day.idxmax()\n",
      "result = {'type': 'number', 'value': max_churn_day}\n"
     ]
    }
   ],
   "source": [
    "print(agent.last_code_executed)"
   ]
  },
  {
   "cell_type": "code",
   "execution_count": 41,
   "metadata": {},
   "outputs": [
    {
     "name": "stdout",
     "output_type": "stream",
     "text": [
      "{'type': 'plot', 'value': 'c:/Users/gopesh.r/Downloads/LLA-J/exports/charts/temp_chart.png'}\n"
     ]
    }
   ],
   "source": [
    "result = agent.last_code_executed\n",
    "print(result.split('\\n')[::-1][0].split(' = ')[1])\n",
    "json_result = result.split('\\n')[::-1][0].split(' = ')[1].replace('\\'', \"\\\"\")"
   ]
  },
  {
   "cell_type": "code",
   "execution_count": null,
   "metadata": {},
   "outputs": [],
   "source": []
  },
  {
   "cell_type": "code",
   "execution_count": 42,
   "metadata": {},
   "outputs": [
    {
     "data": {
      "text/plain": [
       "'{\"type\": \"plot\", \"value\": \"c:/Users/gopesh.r/Downloads/LLA-J/exports/charts/temp_chart.png\"}'"
      ]
     },
     "execution_count": 42,
     "metadata": {},
     "output_type": "execute_result"
    }
   ],
   "source": [
    "json_result"
   ]
  },
  {
   "cell_type": "code",
   "execution_count": 43,
   "metadata": {},
   "outputs": [],
   "source": [
    "import json\n",
    "\n",
    "try:\n",
    "    json_result = json.loads(json_result)\n",
    "except:\n",
    "    json_result = json_result.split(\",\")[0] + \"}\"\n",
    "    json_result = json.loads(json_result)"
   ]
  },
  {
   "cell_type": "code",
   "execution_count": 44,
   "metadata": {},
   "outputs": [
    {
     "data": {
      "text/plain": [
       "{'type': 'plot',\n",
       " 'value': 'c:/Users/gopesh.r/Downloads/LLA-J/exports/charts/temp_chart.png'}"
      ]
     },
     "execution_count": 44,
     "metadata": {},
     "output_type": "execute_result"
    }
   ],
   "source": [
    "json_result"
   ]
  },
  {
   "cell_type": "code",
   "execution_count": 14,
   "metadata": {},
   "outputs": [
    {
     "name": "stdout",
     "output_type": "stream",
     "text": [
      "What specific aspects of prepaid churn are you interested in analyzing? For example, are you interested in trends over time, comparisons to previous months, or the impact of specific factors?\n",
      "What do you mean by 'descriptive'? Are there any specific metrics or visualizations you'd like to see?\n",
      "Could you please clarify how 'prepaid churn' is defined in this context? Is it based on a specific time period, such as a 30-day or 60-day churn rate?\n"
     ]
    }
   ],
   "source": [
    "# Get Clarification Questions\n",
    "questions = agent.clarification_questions(query)\n",
    "\n",
    "for question in questions:\n",
    "    print(question)"
   ]
  },
  {
   "cell_type": "code",
   "execution_count": 15,
   "metadata": {},
   "outputs": [
    {
     "name": "stdout",
     "output_type": "stream",
     "text": [
      "Based on your request to analyze prepaid churn for March, I needed to figure out which data points correspond to March. Then, I summed up all the prepaid churn values for those data points to calculate the total prepaid churn for March. \n",
      "\n"
     ]
    }
   ],
   "source": [
    "# Explain how the chat response is generated\n",
    "response = agent.explain()\n",
    "print(response)"
   ]
  }
 ],
 "metadata": {
  "kernelspec": {
   "display_name": "Python 3",
   "language": "python",
   "name": "python3"
  },
  "language_info": {
   "codemirror_mode": {
    "name": "ipython",
    "version": 3
   },
   "file_extension": ".py",
   "mimetype": "text/x-python",
   "name": "python",
   "nbconvert_exporter": "python",
   "pygments_lexer": "ipython3",
   "version": "3.11.9"
  }
 },
 "nbformat": 4,
 "nbformat_minor": 2
}
