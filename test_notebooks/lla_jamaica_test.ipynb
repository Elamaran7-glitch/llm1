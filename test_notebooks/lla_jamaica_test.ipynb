{
  "cells": [
    {
      "cell_type": "code",
      "execution_count": 5,
      "metadata": {
        "colab": {
          "base_uri": "https://localhost:8080/"
        },
        "id": "ZIN9jDwoxPdJ",
        "outputId": "b5f9b556-783c-4259-aa98-6e520c41f483"
      },
      "outputs": [
        {
          "name": "stdout",
          "output_type": "stream",
          "text": [
            "\u001b[2K     \u001b[90m━━━━━━━━━━━━━━━━━━━━━━━━━━━━━━━━━━━━━━━━\u001b[0m \u001b[32m1.9/1.9 MB\u001b[0m \u001b[31m9.8 MB/s\u001b[0m eta \u001b[36m0:00:00\u001b[0m\n",
            "\u001b[2K     \u001b[90m━━━━━━━━━━━━━━━━━━━━━━━━━━━━━━━━━━━━━━━━\u001b[0m \u001b[32m433.8/433.8 kB\u001b[0m \u001b[31m36.3 MB/s\u001b[0m eta \u001b[36m0:00:00\u001b[0m\n",
            "\u001b[2K     \u001b[90m━━━━━━━━━━━━━━━━━━━━━━━━━━━━━━━━━━━━━━━━\u001b[0m \u001b[32m274.7/274.7 kB\u001b[0m \u001b[31m23.0 MB/s\u001b[0m eta \u001b[36m0:00:00\u001b[0m\n",
            "\u001b[2K     \u001b[90m━━━━━━━━━━━━━━━━━━━━━━━━━━━━━━━━━━━━━━━━\u001b[0m \u001b[32m981.5/981.5 kB\u001b[0m \u001b[31m58.0 MB/s\u001b[0m eta \u001b[36m0:00:00\u001b[0m\n",
            "\u001b[?25h  Preparing metadata (setup.py) ... \u001b[?25l\u001b[?25hdone\n",
            "\u001b[2K     \u001b[90m━━━━━━━━━━━━━━━━━━━━━━━━━━━━━━━━━━━━━━━━\u001b[0m \u001b[32m3.4/3.4 MB\u001b[0m \u001b[31m54.2 MB/s\u001b[0m eta \u001b[36m0:00:00\u001b[0m\n",
            "\u001b[2K     \u001b[90m━━━━━━━━━━━━━━━━━━━━━━━━━━━━━━━━━━━━━━━━\u001b[0m \u001b[32m80.8/80.8 kB\u001b[0m \u001b[31m9.0 MB/s\u001b[0m eta \u001b[36m0:00:00\u001b[0m\n",
            "\u001b[2K     \u001b[90m━━━━━━━━━━━━━━━━━━━━━━━━━━━━━━━━━━━━━━━━\u001b[0m \u001b[32m290.4/290.4 kB\u001b[0m \u001b[31m28.1 MB/s\u001b[0m eta \u001b[36m0:00:00\u001b[0m\n",
            "\u001b[?25h  Building wheel for langdetect (setup.py) ... \u001b[?25l\u001b[?25hdone\n"
          ]
        }
      ],
      "source": [
        "pip install langchain_community unstructured --quiet"
      ]
    },
    {
      "cell_type": "code",
      "execution_count": 14,
      "metadata": {
        "colab": {
          "base_uri": "https://localhost:8080/"
        },
        "id": "pgihcuAfzBML",
        "outputId": "2fdd807d-7fa3-4d09-9ba3-a757da94ac3d"
      },
      "outputs": [
        {
          "name": "stdout",
          "output_type": "stream",
          "text": [
            "\u001b[?25l     \u001b[90m━━━━━━━━━━━━━━━━━━━━━━━━━━━━━━━━━━━━━━━━\u001b[0m \u001b[32m0.0/1.0 MB\u001b[0m \u001b[31m?\u001b[0m eta \u001b[36m-:--:--\u001b[0m\r\u001b[2K     \u001b[91m━\u001b[0m\u001b[91m╸\u001b[0m\u001b[90m━━━━━━━━━━━━━━━━━━━━━━━━━━━━━━━━━━━━━━\u001b[0m \u001b[32m0.0/1.0 MB\u001b[0m \u001b[31m1.0 MB/s\u001b[0m eta \u001b[36m0:00:01\u001b[0m\r\u001b[2K     \u001b[91m━━━━━\u001b[0m\u001b[91m╸\u001b[0m\u001b[90m━━━━━━━━━━━━━━━━━━━━━━━━━━━━━━━━━━\u001b[0m \u001b[32m0.1/1.0 MB\u001b[0m \u001b[31m2.0 MB/s\u001b[0m eta \u001b[36m0:00:01\u001b[0m\r\u001b[2K     \u001b[91m━━━━━━━━━━━━━━\u001b[0m\u001b[90m╺\u001b[0m\u001b[90m━━━━━━━━━━━━━━━━━━━━━━━━━\u001b[0m \u001b[32m0.4/1.0 MB\u001b[0m \u001b[31m3.4 MB/s\u001b[0m eta \u001b[36m0:00:01\u001b[0m\r\u001b[2K     \u001b[91m━━━━━━━━━━━━━━━━━━━━━━━━━━━━━━━━━\u001b[0m\u001b[91m╸\u001b[0m\u001b[90m━━━━━━\u001b[0m \u001b[32m0.8/1.0 MB\u001b[0m \u001b[31m6.1 MB/s\u001b[0m eta \u001b[36m0:00:01\u001b[0m\r\u001b[2K     \u001b[90m━━━━━━━━━━━━━━━━━━━━━━━━━━━━━━━━━━━━━━━━\u001b[0m \u001b[32m1.0/1.0 MB\u001b[0m \u001b[31m6.2 MB/s\u001b[0m eta \u001b[36m0:00:00\u001b[0m\n",
            "\u001b[?25h"
          ]
        }
      ],
      "source": [
        "pip install langchain --quiet"
      ]
    },
    {
      "cell_type": "code",
      "execution_count": 18,
      "metadata": {
        "colab": {
          "base_uri": "https://localhost:8080/"
        },
        "id": "x5vjj0jqzQiQ",
        "outputId": "7e3ed34d-828f-4714-b822-c330f61c549b"
      },
      "outputs": [
        {
          "name": "stdout",
          "output_type": "stream",
          "text": [
            "\u001b[2K     \u001b[90m━━━━━━━━━━━━━━━━━━━━━━━━━━━━━━━━━━━━━━━━\u001b[0m \u001b[32m55.8/55.8 kB\u001b[0m \u001b[31m896.8 kB/s\u001b[0m eta \u001b[36m0:00:00\u001b[0m\n",
            "\u001b[2K     \u001b[90m━━━━━━━━━━━━━━━━━━━━━━━━━━━━━━━━━━━━━━━━\u001b[0m \u001b[32m125.6/125.6 kB\u001b[0m \u001b[31m2.3 MB/s\u001b[0m eta \u001b[36m0:00:00\u001b[0m\n",
            "\u001b[2K     \u001b[90m━━━━━━━━━━━━━━━━━━━━━━━━━━━━━━━━━━━━━━━━\u001b[0m \u001b[32m67.9/67.9 kB\u001b[0m \u001b[31m5.7 MB/s\u001b[0m eta \u001b[36m0:00:00\u001b[0m\n",
            "\u001b[2K     \u001b[90m━━━━━━━━━━━━━━━━━━━━━━━━━━━━━━━━━━━━━━━━\u001b[0m \u001b[32m139.0/139.0 kB\u001b[0m \u001b[31m9.5 MB/s\u001b[0m eta \u001b[36m0:00:00\u001b[0m\n",
            "\u001b[?25h"
          ]
        }
      ],
      "source": [
        "pip install langchain_google_vertexai --quiet"
      ]
    },
    {
      "cell_type": "code",
      "execution_count": 24,
      "metadata": {
        "colab": {
          "base_uri": "https://localhost:8080/"
        },
        "id": "4O7auKA40KzH",
        "outputId": "aabef411-9899-4aa0-b385-d9f71893c608"
      },
      "outputs": [
        {
          "name": "stdout",
          "output_type": "stream",
          "text": [
            "\u001b[2K     \u001b[90m━━━━━━━━━━━━━━━━━━━━━━━━━━━━━━━━━━━━━━━━\u001b[0m \u001b[32m27.0/27.0 MB\u001b[0m \u001b[31m23.6 MB/s\u001b[0m eta \u001b[36m0:00:00\u001b[0m\n",
            "\u001b[?25h"
          ]
        }
      ],
      "source": [
        "pip install faiss-cpu --quiet"
      ]
    },
    {
      "cell_type": "code",
      "execution_count": 42,
      "metadata": {
        "id": "IcoD07ENxeTd"
      },
      "outputs": [],
      "source": [
        "from langchain_community.document_loaders import UnstructuredExcelLoader\n",
        "from langchain_community.vectorstores import FAISS\n",
        "from langchain_google_vertexai import VertexAIEmbeddings\n",
        "from langchain_google_vertexai import VertexAI\n",
        "from langchain.text_splitter import RecursiveCharacterTextSplitter\n",
        "from langchain.storage import InMemoryStore\n",
        "from langchain_core.prompts import PromptTemplate\n",
        "from langchain.memory import ConversationBufferMemory\n",
        "from langchain.retrievers import ParentDocumentRetriever\n",
        "import os\n",
        "from langchain.chains.question_answering import load_qa_chain"
      ]
    },
    {
      "cell_type": "code",
      "execution_count": 7,
      "metadata": {
        "id": "YxufAS0Cxgw_"
      },
      "outputs": [],
      "source": [
        "os.environ['GOOGLE_APPLICATION_CREDENTIALS'] = \"lumen-b-ctl-047-e2aeb24b0ea0.json\""
      ]
    },
    {
      "cell_type": "code",
      "execution_count": 70,
      "metadata": {
        "colab": {
          "base_uri": "https://localhost:8080/"
        },
        "id": "nZUFGpfUxix2",
        "outputId": "2b08f68d-1b2b-451c-8906-862901442a41"
      },
      "outputs": [
        {
          "data": {
            "text/plain": [
              "Document(page_content='\\n\\n\\nLIME_Jamaica\\n\\n-38964.79\\n\\n\\n\\n\\n\\n\\n\\n\\n\\n\\n\\n\\n\\n\\n\\n\\n\\n\\n\\n\\n\\n\\n\\n\\n\\n\\n\\n\\n\\n\\n0\\n\\n\\n\\n\\n\\n\\n\\n\\n\\n\\n\\n\\n\\n\\n\\n\\n\\n\\n\\n\\n\\n\\n\\n\\n\\n\\n\\n\\n\\n0\\n\\n\\n', metadata={'source': 'Jamaica_Mobile_KPI_ALL_20240509.xlsx', 'filename': 'Jamaica_Mobile_KPI_ALL_20240509.xlsx', 'last_modified': '2024-05-10T13:52:05', 'page_name': 'Jamaica', 'page_number': 1, 'text_as_html': '<table border=\"1\" class=\"dataframe\">\\n  <tbody>\\n    <tr>\\n      <td>LIME_Jamaica</td>\\n      <td></td>\\n      <td>-38964.79</td>\\n      <td></td>\\n      <td></td>\\n      <td></td>\\n      <td></td>\\n      <td></td>\\n      <td></td>\\n      <td></td>\\n      <td></td>\\n      <td></td>\\n      <td></td>\\n      <td></td>\\n      <td></td>\\n      <td></td>\\n      <td></td>\\n      <td></td>\\n      <td></td>\\n      <td></td>\\n      <td></td>\\n      <td></td>\\n      <td></td>\\n      <td></td>\\n      <td></td>\\n      <td></td>\\n      <td></td>\\n      <td></td>\\n      <td></td>\\n      <td></td>\\n      <td></td>\\n      <td></td>\\n      <td></td>\\n      <td>0</td>\\n      <td></td>\\n      <td></td>\\n      <td></td>\\n      <td></td>\\n      <td></td>\\n      <td></td>\\n      <td></td>\\n      <td></td>\\n      <td></td>\\n      <td></td>\\n      <td></td>\\n      <td></td>\\n      <td></td>\\n      <td></td>\\n      <td></td>\\n      <td></td>\\n      <td></td>\\n      <td></td>\\n      <td></td>\\n      <td></td>\\n      <td></td>\\n      <td></td>\\n      <td></td>\\n      <td></td>\\n      <td></td>\\n      <td></td>\\n      <td></td>\\n      <td></td>\\n      <td></td>\\n      <td>0</td>\\n    </tr>\\n  </tbody>\\n</table>', 'languages': ['eng'], 'filetype': 'application/vnd.openxmlformats-officedocument.spreadsheetml.sheet', 'category': 'Table'})"
            ]
          },
          "execution_count": 70,
          "metadata": {},
          "output_type": "execute_result"
        }
      ],
      "source": [
        "loader = UnstructuredExcelLoader(\"Jamaica_Mobile_KPI_ALL_20240509.xlsx\", mode=\"elements\")\n",
        "docs = loader.load()\n",
        "docs[0]"
      ]
    },
    {
      "cell_type": "code",
      "execution_count": 71,
      "metadata": {
        "id": "cysXf3EUyFbV"
      },
      "outputs": [],
      "source": [
        "parent_splitter = RecursiveCharacterTextSplitter(chunk_size=3000, chunk_overlap=100)\n",
        "child_splitter = RecursiveCharacterTextSplitter(chunk_size=1000, chunk_overlap=100)"
      ]
    },
    {
      "cell_type": "code",
      "execution_count": 72,
      "metadata": {
        "id": "qSN9rGjOzM9w"
      },
      "outputs": [],
      "source": [
        "embeddings = VertexAIEmbeddings(model_name=\"textembedding-gecko@003\")"
      ]
    },
    {
      "cell_type": "code",
      "execution_count": 75,
      "metadata": {
        "id": "r4RW0rGDx9Pt"
      },
      "outputs": [],
      "source": [
        "content = \"\\n\\n\".join(str(page.page_content) for page in docs)\n",
        "texts = parent_splitter.split_text(content)"
      ]
    },
    {
      "cell_type": "code",
      "execution_count": 76,
      "metadata": {
        "id": "6ntbz3j75vTr"
      },
      "outputs": [],
      "source": [
        "vector_store = FAISS.from_texts(texts, embeddings)"
      ]
    },
    {
      "cell_type": "code",
      "execution_count": 77,
      "metadata": {
        "id": "T_wyf9_b1lZn"
      },
      "outputs": [],
      "source": [
        "store = InMemoryStore()"
      ]
    },
    {
      "cell_type": "code",
      "execution_count": 78,
      "metadata": {
        "id": "wl00Z7Ae0Tjg"
      },
      "outputs": [],
      "source": [
        "retriever = ParentDocumentRetriever(\n",
        "        vectorstore=vector_store,\n",
        "        docstore=store,\n",
        "        child_splitter=child_splitter,\n",
        "        parent_splitter=parent_splitter\n",
        "    )"
      ]
    },
    {
      "cell_type": "code",
      "execution_count": 107,
      "metadata": {
        "id": "4__T5gsi1t19"
      },
      "outputs": [],
      "source": [
        "prompt_template = \"\"\"\n",
        "     Welcome to the role of telecom provider chatbot!\n",
        "      Your role is to analyze KPI metrics and provide accurate responses based on the provided data.\n",
        "      You're empowered to perform mathematical operations as needed to derive answers, ensuring precision without altering any numbers from the original dataset.\n",
        "\n",
        "      Your goal is to deliver exact answers that correspond to the metrics outlined, assisting users with their inquiries.\n",
        "      It's crucial to refrain from inventing numerical data and rely solely on the information provided.\n",
        "      Let's leverage the insights from the KPI metrics to effectively support users with their telecom-related queries.\n",
        "      ** do not use any outside numbers that is not provided to you**\n",
        "\n",
        "     Context:\\n {context}?\\n\\n\n",
        "     Question: \\n{question}\\n\\n\n",
        "\n",
        "     Answer:\n",
        "    \"\"\""
      ]
    },
    {
      "cell_type": "code",
      "execution_count": 108,
      "metadata": {
        "id": "CI5nvzPS2M9F"
      },
      "outputs": [],
      "source": [
        "prompt = PromptTemplate(template=prompt_template, input_variables=[\"context\", \"question\", \"chat_history\"])\n",
        "# memory = ConversationBufferMemory(memory_key='chat_history', input_key='question')\n",
        "model = VertexAI(temperature=0.3, max_output_tokens=2048)"
      ]
    },
    {
      "cell_type": "code",
      "execution_count": 110,
      "metadata": {
        "id": "MDJWcDMW2kxi"
      },
      "outputs": [],
      "source": [
        "chain = load_qa_chain(model, chain_type=\"stuff\", prompt=prompt)"
      ]
    },
    {
      "cell_type": "code",
      "execution_count": 125,
      "metadata": {
        "id": "AILuffi93CT3"
      },
      "outputs": [],
      "source": [
        "question = \"Prepaid LTE Data Users Active 60 Day numbers for whole date range\""
      ]
    },
    {
      "cell_type": "code",
      "execution_count": 126,
      "metadata": {
        "id": "HccX4m132y3Q"
      },
      "outputs": [],
      "source": [
        "docs = retriever.get_relevant_documents(question)\n",
        "response = chain({\"input_documents\": docs, \"question\": question}, return_only_outputs=True)"
      ]
    },
    {
      "cell_type": "code",
      "execution_count": 127,
      "metadata": {
        "colab": {
          "base_uri": "https://localhost:8080/"
        },
        "id": "_w-6YOam3-P3",
        "outputId": "7760980f-69df-49a8-dcce-bec61ead589a"
      },
      "outputs": [
        {
          "name": "stdout",
          "output_type": "stream",
          "text": [
            " The total number of Prepaid LTE Data Users Active 60 Day across the entire date range is 1,241,389.\n"
          ]
        }
      ],
      "source": [
        "print(response['output_text'])"
      ]
    }
  ],
  "metadata": {
    "colab": {
      "provenance": []
    },
    "kernelspec": {
      "display_name": "Python 3",
      "name": "python3"
    },
    "language_info": {
      "name": "python"
    }
  },
  "nbformat": 4,
  "nbformat_minor": 0
}
